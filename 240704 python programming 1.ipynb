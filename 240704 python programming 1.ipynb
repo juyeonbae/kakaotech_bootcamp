{
  "cells": [
    {
      "cell_type": "markdown",
      "metadata": {
        "id": "zr5LnyrKxjNd"
      },
      "source": [
        "# 파이썬 프로그래밍 종합 실습\n",
        "기본 문법 복습, 자료형, 함수, 클래스와 객체지향 프로그래밍, 제너레이터와 이터레이터, 파일 입출력, 예외 처리를 종합적으로 활용합니다."
      ]
    },
    {
      "cell_type": "markdown",
      "metadata": {
        "id": "MwJQm7MJxvAk"
      },
      "source": [
        "1. 파이썬 기본 문법 복습 및 자료형\n",
        "\n",
        "문제:\n",
        "\n",
        "사용자로부터 이름, 나이, 이메일을 입력받아 딕셔너리에 저장하는 프로그램을 작성하세요.\n",
        "\n",
        "나이와 이메일의 형식을 검증하고, 잘못된 입력이 있으면 예외 처리를 하세요."
      ]
    },
    {
      "cell_type": "code",
      "execution_count": 2,
      "metadata": {
        "id": "yKTAculHxfMp"
      },
      "outputs": [],
      "source": [
        "def validate_age(age):\n",
        "    try:\n",
        "        age = int(age)\n",
        "\n",
        "        # 14세 미만 예외 처리\n",
        "        if age < 14:\n",
        "            raise ValueError(\"Under 14 years of age, this website cannot be used.\")\n",
        "        return age\n",
        "    \n",
        "    # 예외 처리 에러 메시지 출력\n",
        "    except ValueError as e:\n",
        "        raise ValueError(f\"{e}\")\n",
        "\n",
        "\n",
        "def validate_email(email):\n",
        "    try:\n",
        "        id, form = email.split('@')\n",
        "        em, dot = form.split('.')\n",
        "\n",
        "        email_form = {'naver': 'com', 'gmail': 'com', 'daum': 'net'}\n",
        "\n",
        "        # id 길이 5 이상 15 이하로 글자 수 제한 \n",
        "        if len(id) < 5 or len(id) > 15:\n",
        "            raise ValueError(\"The ID is too short or too long. Please write 5 or more and 15 or less characters.\")\n",
        "\n",
        "        # email 형식이 네이버, 구글, 다음 이외의 형식일 경우 예외 처리\n",
        "        if em not in email_form or email_form[em] != dot:\n",
        "            raise ValueError(\"Invalid email format. Please use naver, gmail, or daum.\")\n",
        "\n",
        "        return email\n",
        "\n",
        "    except ValueError as e:\n",
        "        raise ValueError(f\"{e}\")\n",
        "\n",
        "\n",
        "# main \n",
        "user_list = []\n",
        "\n",
        "while True:\n",
        "    try:\n",
        "        name = input(\"Enter your name: \")\n",
        "\n",
        "        # 제대로 된 입력일 때까지 반복 \n",
        "        while True:\n",
        "            age_input = input(\"Enter your age: \")\n",
        "            try:\n",
        "                age = validate_age(age_input)\n",
        "                break\n",
        "            except ValueError as e:\n",
        "                print(f\"Please input it again : {e}\")\n",
        "\n",
        "        while True:\n",
        "            email_input = input(\"Enter your email: \")\n",
        "            try:\n",
        "                email = validate_email(email_input)\n",
        "                break\n",
        "            except ValueError as e:\n",
        "                print(f\"Please input it again : {e}\")\n",
        "\n",
        "        # 입력이 제대로 되었을 때, 추가된 값 확인 및 반복문 탈출 \n",
        "        user_list.append([name, age, email])\n",
        "        print(\"Success!\",user_list)\n",
        "        break\n",
        "\n",
        "    # 나이, 이메일 예외 이외의 에러가 발생할 시 실행\n",
        "    except Exception as e:\n",
        "        print(f\"An unexpected error has occurred.: {e}\")\n"
      ]
    },
    {
      "cell_type": "markdown",
      "metadata": {
        "id": "in-rBALsyK33"
      },
      "source": [
        "2. 함수 및 클래스와 객체지향 프로그래밍\n",
        "\n",
        "문제:\n",
        "\n",
        "간단한 계산기 클래스를 작성하세요. 이 클래스는 덧셈, 뺄셈, 곱셈, 나눗셈 메서드를 포함합니다.\n",
        "\n",
        "사용자로부터 두 숫자와 연산자를 입력받아 계산 결과를 출력하는 프로그램을 작성하세요."
      ]
    },
    {
      "cell_type": "code",
      "execution_count": 6,
      "metadata": {
        "id": "v-Yn0ydQyQMO"
      },
      "outputs": [
        {
          "name": "stdout",
          "output_type": "stream",
          "text": [
            "Addition: 15\n",
            "Subtraction: 5\n",
            "Multiplication: 50\n",
            "Division: 2.0\n"
          ]
        }
      ],
      "source": [
        "class Calculator:\n",
        "    def __init__(self, a, b):\n",
        "        self.a = a\n",
        "        self.b = b\n",
        "    \n",
        "    def __add__(self):\n",
        "        return self.a + self.b\n",
        "    \n",
        "    def __sub__(self):\n",
        "        return self.a - self.b\n",
        "    \n",
        "    def __mul__(self):\n",
        "        return self.a * self.b\n",
        "    \n",
        "    def __truediv__(self):\n",
        "        if self.b != 0:\n",
        "            return self.a / self.b\n",
        "        raise ZeroDivisionError()\n",
        "try:\n",
        "    calc = Calculator(10,5)\n",
        "    print(\"Addition:\", calc.__add__())\n",
        "    print(\"Subtraction:\", calc.__sub__())\n",
        "    print(\"Multiplication:\", calc.__mul__())\n",
        "    print(\"Division:\", calc.__truediv__())\n",
        "\n",
        "except ZeroDivisionError as e:\n",
        "    print(\"Division with zero\")"
      ]
    },
    {
      "cell_type": "markdown",
      "metadata": {
        "id": "OlDjuxSlyZOi"
      },
      "source": [
        "3. 제너레이터와 이터레이터\n",
        "\n",
        "문제:\n",
        "\n",
        "피보나치 수열을 생성하는 제너레이터 함수를 작성하세요.\n",
        "피보나치 수열의 첫 10개 값을 출력하세요."
      ]
    },
    {
      "cell_type": "code",
      "execution_count": 2,
      "metadata": {
        "id": "BkI1jD4GydEa"
      },
      "outputs": [
        {
          "name": "stdout",
          "output_type": "stream",
          "text": [
            "0\n",
            "1\n",
            "1\n",
            "2\n",
            "3\n",
            "5\n",
            "8\n",
            "13\n",
            "21\n",
            "34\n"
          ]
        }
      ],
      "source": [
        "def fibonacci():\n",
        "    a, b = 0, 1\n",
        "    while True:\n",
        "        # 현재의 a 값을 반환하고, a, b 를 업데이트 \n",
        "        yield a\n",
        "        a, b = b, a + b\n",
        "\n",
        "# 제너레이터 객체 생성\n",
        "fib = fibonacci()\n",
        "\n",
        "# 첫 10개의 피보나치 수열 값 출력\n",
        "for _ in range(10):\n",
        "    print(next(fib)) # 객체를 반복문을 통해 호출할 때마다 next() 함수로 다음 피보나치 수열 가져옴"
      ]
    },
    {
      "cell_type": "markdown",
      "metadata": {
        "id": "O-_Q0pRUycx0"
      },
      "source": [
        "4. 파일 입출력\n",
        "\n",
        "문제:\n",
        "\n",
        "사용자로부터 입력받은 데이터를 파일에 저장하고, 파일 내용을 읽어 출력하는 프로그램을 작성하세요.\n",
        "\n",
        "데이터는 JSON 형식으로 저장하세요"
      ]
    },
    {
      "cell_type": "code",
      "execution_count": 3,
      "metadata": {
        "id": "nyLTxXTHyqKE"
      },
      "outputs": [],
      "source": [
        "import json\n",
        "\n",
        "# 데이터 입력 받기\n",
        "data = {}\n",
        "data['name'] = input(\"Enter your name: \")\n",
        "data['age'] = int(input(\"Enter your age: \"))\n",
        "data['email'] = input(\"Enter your email: \")\n",
        "\n",
        "# 데이터를 JSON 형식으로 파일에 저장\n",
        "file_name = 'user_data.json'\n",
        "\n",
        "# 파일을 쓰기 모드('w') 로 열고, 파일 핸들을 'f'에 할당한다.\n",
        "# 'with'문을 사용하여 파일 핸들이 자동으로 닫히도록 한다.\n",
        "with open(file_name, 'w') as f:\n",
        "    # 'data' 딕셔너리를 JSON 형식으로 직렬화하여 파일에 저장 \n",
        "    json.dump(data, f)\n",
        "\n",
        "# 파일에서 데이터 읽기\n",
        "with open(file_name, 'r') as f:\n",
        "    loaded_data = json.load(f)\n",
        "    print(f\"Loaded data from {file_name}:\")\n",
        "    print(f\"Name: {loaded_data['name']}\")\n",
        "    print(f\"Age: {loaded_data['age']}\")\n",
        "    print(f\"Email: {loaded_data['email']}\")\n"
      ]
    },
    {
      "cell_type": "markdown",
      "metadata": {
        "id": "snEMYElhy3Q3"
      },
      "source": [
        "5. Database 연동\n",
        "\n",
        "문제:\n",
        "\n",
        "SQLite 데이터베이스에 사용자 정보를 저장하고, 저장된 데이터를 조회하여 출력하는 프로그램을 작성하세요.\n",
        "\n",
        "테이블은 users로 하고, id, name, age, email 컬럼을 포함합니다."
      ]
    },
    {
      "cell_type": "code",
      "execution_count": 3,
      "metadata": {
        "id": "d8BgUC0ky6_b"
      },
      "outputs": [
        {
          "name": "stdout",
          "output_type": "stream",
          "text": [
            "사용자 정보:\n",
            "ID: 1, name: gildong, age: 30, email: hong@naver.com\n",
            "ID: 2, name: kim, age: 25, email: kim@naver.com\n"
          ]
        }
      ],
      "source": [
        "import sqlite3\n",
        "\n",
        "# SQLite 데이터베이스에 연결 (데이터베이스 파일이 없으면 생성됨)\n",
        "connection = sqlite3.connect('user_info.db')\n",
        "\n",
        "# 커서 객체 생성\n",
        "cursor = connection.cursor()\n",
        "\n",
        "# 기존 테이블 삭제 (있다면)\n",
        "cursor.execute('DROP TABLE IF EXISTS users')\n",
        "\n",
        "# 테이블 생성 (이미 존재하면 무시)\n",
        "cursor.execute('''CREATE TABLE IF NOT EXISTS users (\n",
        "               id INTEGER PRIMARY KEY,\n",
        "               name TEXT NOT NULL,\n",
        "               age INTEGER,\n",
        "               email TEXT\n",
        "               )''')\n",
        "\n",
        "# 샘플 데이터 삽입\n",
        "cursor.execute(\"INSERT INTO users (name, age, email) VALUES (?,?,?)\", ('gildong',30,'hong@naver.com'))\n",
        "cursor.execute(\"INSERT INTO users (name, age, email) VALUES (?,?,?)\", ('kim',25,'kim@naver.com'))\n",
        "\n",
        "# 트랜잭션 커밋\n",
        "connection.commit()\n",
        "\n",
        "# 데이터 조회\n",
        "cursor.execute(\"SELECT * FROM users\")\n",
        "users = cursor.fetchall()\n",
        "\n",
        "# 조회된 데이터 출력\n",
        "print(\"사용자 정보:\")\n",
        "for user in users:\n",
        "    print(f\"ID: {user[0]}, name: {user[1]}, age: {user[2]}, email: {user[3]}\")\n",
        "\n",
        "# 커서와 연결 종료\n",
        "cursor.close()\n",
        "connection.close()"
      ]
    },
    {
      "cell_type": "markdown",
      "metadata": {
        "id": "qFd9nMWdzMaw"
      },
      "source": [
        "6. 예외 처리\n",
        "\n",
        "문제:\n",
        "\n",
        "사용자로부터 숫자를 입력받아, 그 숫자를 10으로 나누는 프로그램을 작성하세요.\n",
        "\n",
        "0으로 나누는 경우와 숫자가 아닌 값을 입력받는 경우를 처리하세요."
      ]
    },
    {
      "cell_type": "code",
      "execution_count": 7,
      "metadata": {
        "id": "B_0S33jOzPDJ"
      },
      "outputs": [],
      "source": [
        "d = 10 \n",
        "try:\n",
        "    num = int(input())\n",
        "    if not num.isdigit():\n",
        "        raise ValueError\n",
        "    elif d == 0:\n",
        "        raise ZeroDivisionError\n",
        "    \n",
        "except ZeroDivisionError:\n",
        "    print(\"Division with zero\")\n",
        "except ValueError:\n",
        "    print(\"Invalid Input\")"
      ]
    }
  ],
  "metadata": {
    "colab": {
      "provenance": []
    },
    "kernelspec": {
      "display_name": "Python 3",
      "name": "python3"
    },
    "language_info": {
      "codemirror_mode": {
        "name": "ipython",
        "version": 3
      },
      "file_extension": ".py",
      "mimetype": "text/x-python",
      "name": "python",
      "nbconvert_exporter": "python",
      "pygments_lexer": "ipython3",
      "version": "3.12.3"
    }
  },
  "nbformat": 4,
  "nbformat_minor": 0
}
