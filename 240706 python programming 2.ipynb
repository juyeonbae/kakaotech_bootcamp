{
  "cells": [
    {
      "cell_type": "markdown",
      "metadata": {
        "id": "o2A6nokuDOFH"
      },
      "source": [
        "# 파이썬 프로그래밍 II 종합 실습\n",
        "\n",
        "collections 모듈, comprehension, logging, 정규표현식, 멀티스레딩, 멀티프로세싱을 활용합니다.\n"
      ]
    },
    {
      "cell_type": "markdown",
      "metadata": {
        "id": "wSeIu_4nDSsP"
      },
      "source": [
        "과제 1: Collections 모듈 활용\n",
        "\n",
        "EXAMPLE_SEQUENCE 값을 활용해보세요.\n",
        "\n",
        "1. Deque: Deque를 생성하고, 요소를 추가하고 제거하는 작업을 해보세요.\n",
        "\n",
        "2. Namedtuple: Namedtuple을 정의하고 인스턴스를 생성해보세요.\n",
        "\n",
        "3. Defaultdict: Defaultdict를 사용해보세요. 키가 없을 때 기본값을 설정하세요.\n",
        "\n",
        "4. Counter: Counter를 사용해 리스트에서 각 요소의 빈도를 세어보세요."
      ]
    },
    {
      "cell_type": "code",
      "execution_count": 3,
      "metadata": {
        "id": "DOHabDfaDMyp"
      },
      "outputs": [
        {
          "name": "stdout",
          "output_type": "stream",
          "text": [
            "Initial deque: deque(['dog', 'cat', 'mouse', 'parrot', 'frog'])\n",
            "After adding elements: deque(['dog', 'cat', 'mouse', 'parrot', 'frog', 'rabbit', 'elephant'])\n",
            "After removing elements: deque(['cat', 'mouse', 'parrot', 'frog', 'rabbit'])\n",
            "Namedtuple instances: Animal(name='Dog', type='Mammal') Animal(name='Cat', type='Mammal')\n",
            "Defaultdict with existing key: Mammal\n",
            "Defaultdict with non-existing key: Mammal\n",
            "Counter result: Counter({'dog': 1, 'cat': 1, 'mouse': 1, 'parrot': 1, 'frog': 1})\n"
          ]
        }
      ],
      "source": [
        "from collections import deque, namedtuple, defaultdict, Counter\n",
        "\n",
        "EXAMPLE_SEQUENCE = ['dog', 'cat', 'mouse', 'parrot', 'frog']\n",
        "\n",
        "# 1. Deque: Deque를 생성하고 요소를 추가하고 제거하는 작업\n",
        "# Deque 생성\n",
        "ex_deque = deque(EXAMPLE_SEQUENCE)\n",
        "print(\"Initial deque:\", ex_deque)\n",
        "\n",
        "# 요소 추가 (append와 appendleft)\n",
        "ex_deque.append('rabbit')\n",
        "ex_deque.append('elephant')\n",
        "print('After adding elements:', ex_deque)\n",
        "\n",
        "# 요소 제거 (pop과 popleft)\n",
        "ex_deque.pop()\n",
        "ex_deque.popleft()\n",
        "print('After removing elements:', ex_deque)\n",
        "\n",
        "# 2. Namedtuple: Namedtuple을 정의하고 인스턴스를 생성\n",
        "# Namedtuple 정의\n",
        "Animal = namedtuple('Animal', 'name type')\n",
        "# 인스턴스 생성\n",
        "dog = Animal(name='Dog', type = 'Mammal')\n",
        "cat = Animal(name='Cat', type = 'Mammal')\n",
        "print(\"Namedtuple instances:\", dog, cat)\n",
        "\n",
        "# 3. Defaultdict: Defaultdict를 사용, 키가 없을 때 기본값 설정\n",
        "# Defaultdict 정의\n",
        "animal_dict = defaultdict(lambda: 'Unknown')\n",
        "# 값 설정\n",
        "animal_dict['dog'] = 'Mammal'\n",
        "animal_dict['cat'] = 'Mammal'\n",
        "print('Defaultdict with existing key:', animal_dict['dog'])\n",
        "print('Defaultdict with non-existing key:', animal_dict['cat'])\n",
        "\n",
        "# 4. Counter: Counter를 사용해 리스트에서 각 요소의 빈도 세기\n",
        "# Counter 사용\n",
        "animal_counter = Counter(EXAMPLE_SEQUENCE)\n",
        "print('Counter result:', animal_counter)"
      ]
    },
    {
      "cell_type": "markdown",
      "metadata": {
        "id": "VUAClu_dD07F"
      },
      "source": [
        "과제 2: Comprehension 활용\n",
        "\n",
        "EXAMPLE_SEQUENCE 값을 활용해보세요.\n",
        "\n",
        "1. 리스트 컴프리헨션: 숫자 리스트의 제곱값을 구하세요.\n",
        "\n",
        "2. 딕셔너리 컴프리헨션: 키가 숫자이고 값이 그 숫자의 제곱인 딕셔너리를 생성하세요.\n",
        "\n",
        "3. 집합 컴프리헨션: 중복된 값을 제거한 제곱값 집합을 생성하세요."
      ]
    },
    {
      "cell_type": "code",
      "execution_count": 4,
      "metadata": {
        "id": "UXRdE3o0EDwK"
      },
      "outputs": [
        {
          "name": "stdout",
          "output_type": "stream",
          "text": [
            "Squared list: [1, 16, 144, 81, 484, 25, 1, 81]\n",
            "Squared dictionary: {1: 1, 4: 16, 12: 144, 9: 81, 22: 484, 5: 25}\n",
            "Squared set: {1, 484, 16, 144, 81, 25}\n"
          ]
        }
      ],
      "source": [
        "EXAMPLE_SEQUENCE = [1, 4, 12, 9, 22, 5, 1, 9]\n",
        "\n",
        "# 1. 리스트 컴프리헨션: 숫자 리스트의 제곱값을 구하기\n",
        "squared_list = [x**2 for x in EXAMPLE_SEQUENCE]\n",
        "print(\"Squared list:\", squared_list)\n",
        "\n",
        "# 2. 딕셔너리 컴프리헨션: 키가 숫자이고 값이 그 숫자의 제곱인 딕셔너리 생성\n",
        "squared_dict = {x: x**2 for x in EXAMPLE_SEQUENCE}\n",
        "print(\"Squared dictionary:\", squared_dict)\n",
        "\n",
        "# 3. 집합 컴프리헨션: 중복된 값을 제거한 제곲값 집합 생성\n",
        "squared_set = {x**2 for x in EXAMPLE_SEQUENCE}\n",
        "print(\"Squared set:\", squared_set)"
      ]
    },
    {
      "cell_type": "markdown",
      "metadata": {
        "id": "j-42IEV_Ec35"
      },
      "source": [
        "과제 3: Logging 활용\n",
        "\n",
        "1. 기본 로깅 설정: 로깅을 설정하고 정보를 로깅하세요. 로그의 형태는 '시간 - 에러레벨 - 메시지' 입니다.\n",
        "\n",
        "2. 예외 로깅: 예외가 발생했을 때 에러를 로깅하세요."
      ]
    },
    {
      "cell_type": "markdown",
      "metadata": {},
      "source": [
        "logging: 프로그램 실행 중 발생하는 이벤트나 상태 변화를 기록하는 과정\n",
        "\n",
        "- 프로그램의 실행 흐름을 추적하고, 예외나 오류 발생 시 신속하게 원인 파악 가능 \n",
        "- 로깅 사용 시 디버깅이 더 쉬워지며 문제 발생 시 정확하게 상황을 알 수 있어 유지보수가 용이해진다. "
      ]
    },
    {
      "cell_type": "code",
      "execution_count": 6,
      "metadata": {
        "id": "Q7jfbpQTEz8N"
      },
      "outputs": [
        {
          "name": "stderr",
          "output_type": "stream",
          "text": [
            "2024-07-08 14:29:10,755 - DEBUG - This is a debug message.\n",
            "2024-07-08 14:29:10,756 - INFO - This is an info message.\n",
            "2024-07-08 14:29:10,757 - WARNING - This is a warning message.\n",
            "2024-07-08 14:29:10,758 - ERROR - This is an error message.\n",
            "2024-07-08 14:29:10,759 - CRITICAL - This is a critical message.\n"
          ]
        }
      ],
      "source": [
        "import logging\n",
        "\n",
        "# 1. 기본 로깅 설정\n",
        "# 로그 포맷: '시간 - 에러레벨 - 메시지'\n",
        "logging.basicConfig(\n",
        "    level=logging.DEBUG, # 로깅 레벨 설정(DEBUG 레벨부터 모든 레벨 로그 기록\n",
        "\n",
        "    # 로그 메시지 형식 지정\n",
        "    # 로그가 기록된 시간 - 로그 레벨 - 로그 메시지\n",
        "    format='%(asctime)s - %(levelname)s - %(message)s',\n",
        "    # 시간 형식 지정\n",
        "    datafmt='%Y-%m-%d %H:%M:%S' \n",
        ")\n",
        "\n",
        "# 로깅 레벨 \n",
        "# 개발 중 유용한 상세 정보\n",
        "# 일반적인 정보 메시지\n",
        "# 경고 메시지\n",
        "# 오류 메시지\n",
        "# 치명적인 오류 메시지\n",
        "\n",
        "# 로그 메시지 기록\n",
        "logging.debug('This is a debug message.') \n",
        "logging.info('This is an info message.') \n",
        "logging.warning('This is a warning message.') \n",
        "logging.error('This is an error message.') \n",
        "logging.critical('This is a critical message.') \n"
      ]
    },
    {
      "cell_type": "code",
      "execution_count": 7,
      "metadata": {},
      "outputs": [
        {
          "name": "stderr",
          "output_type": "stream",
          "text": [
            "2024-07-08 14:32:43,885 - ERROR - An error occurred: division by zero\n"
          ]
        }
      ],
      "source": [
        "# 예외 로깅\n",
        "\n",
        "import logging\n",
        "\n",
        "# 1. 기본 로깅 설정 (이미 설정되어 있으면 생략 가능)\n",
        "logging.basicConfig(\n",
        "    level=logging.DEBUG,\n",
        "    format='%(asctime)s - %(levelname)s - %(message)s',\n",
        "    datefmt='%Y-%m-%d %H:%M:%S'\n",
        ")\n",
        "\n",
        "# 2. 예외 로깅\n",
        "try:\n",
        "    # 예외를 발생시키는 코드 (예: 0으로 나누기)\n",
        "    result = 10 / 0\n",
        "except ZeroDivisionError as e:\n",
        "    logging.error('An error occurred: %s', e)"
      ]
    },
    {
      "cell_type": "markdown",
      "metadata": {
        "id": "VGcHabOVE4mI"
      },
      "source": [
        "과제 4: 정규 표현식 사용\n",
        "\n",
        "1. 기본 패턴 매칭: 이메일 주소를 추출하세요.\n",
        "\n",
        "2. 기본 패턴 매칭: 비식별화를 진행하세요. ID를 앞 3글자 이외는 모두 '*'로 변경합니다.\n",
        "\n",
        "3. 고급 패턴 매칭: HTML 태그를 제거하세요."
      ]
    },
    {
      "cell_type": "code",
      "execution_count": 10,
      "metadata": {
        "id": "I-9AqxWWE59J"
      },
      "outputs": [
        {
          "name": "stdout",
          "output_type": "stream",
          "text": [
            "Extracted email: ['kakaotech@goorm.io']\n"
          ]
        }
      ],
      "source": [
        "# 1. 기본 패턴 매칭: 이메일 주소 추출\n",
        "\n",
        "import re\n",
        "\n",
        "email = \"MY name is Jhin, my email is kakaotech@goorm.io\"\n",
        "\n",
        "# 이메일 패턴 매칭\n",
        "email_pattern = r'\\b[A-Za-z0-9._%+-]+@[A-Za-z0-9.-]+\\.[A-Z|a-z]{2,}\\b'\n",
        "email_matches = re.findall(email_pattern, email)\n",
        "\n",
        "print(\"Extracted email:\", email_matches)"
      ]
    },
    {
      "cell_type": "markdown",
      "metadata": {},
      "source": [
        "* r'\\b[A-Za-z0-9._%+-]+@[A-Za-z0-9.-]+\\.[A-Z|a-z]{2,}\\b'\n",
        "- 이메일 주소를 매칭하기 위한 패턴\n",
        "- \\b: 단어 경계\n",
        "\n",
        "* [A-Za-z0-9._%+-]+\n",
        "- 하나 이상의 알파벳, 숫자, '.', '_', '%', '+', '-'를 포함하는 부분\n",
        "\n",
        "* @: '@' 문자.\n",
        "\n",
        "* [A-Za-z0-9.-]+\n",
        "- 하나 이상의 알파벳, 숫자, '.', '-'를 포함하는 부분\n",
        "\n",
        "* \\.[A-Z|a-z]{2,}\n",
        "- '.' 뒤에 2글자 이상의 알파벳이 오는 부분"
      ]
    },
    {
      "cell_type": "code",
      "execution_count": 11,
      "metadata": {},
      "outputs": [
        {
          "name": "stdout",
          "output_type": "stream",
          "text": [
            "Anonymized IDs: ['jhi*****', 'lov********', '세종대*****', 'twi*******', 'Pos*******']\n"
          ]
        }
      ],
      "source": [
        "# 2. 기본 패턴 매칭: 비식별화\n",
        "\n",
        "id_list = [\"jhin.lee\", \"lovelove123\", \"세종대왕만세!!\", \"twin에너지123\", \"PostModern\"]\n",
        "\n",
        "# 비식별화 함수\n",
        "def anonymize_id(id):\n",
        "    return id[:3] + '*' * (len(id) - 3)\n",
        "\n",
        "anonymize_ids = [anonymize_id(id) for id in id_list]\n",
        "\n",
        "print(\"Anonymized IDs:\", anonymize_ids)"
      ]
    },
    {
      "cell_type": "code",
      "execution_count": 12,
      "metadata": {},
      "outputs": [
        {
          "name": "stdout",
          "output_type": "stream",
          "text": [
            "Clean text: Hello, World!\n"
          ]
        }
      ],
      "source": [
        "# 고급 패턴 매칭: HTML 태그 제거\n",
        "\n",
        "html = \"<p>Hello, <b>World!</b></p>\"\n",
        "\n",
        "# HTML 태그 제거 패턴\n",
        "html_tag_pattern = re.compile(r'<.*?>')\n",
        "clean_text = re.sub(html_tag_pattern, '',html)\n",
        "\n",
        "print(\"Clean text:\", clean_text)"
      ]
    },
    {
      "cell_type": "markdown",
      "metadata": {},
      "source": [
        "* re.compile(r'<.*?>')\n",
        "- HTML 태그를 매칭하기 위한 패턴을 컴파일\n",
        "\n",
        "* <.*?>\n",
        "- <와 > 사이에 0개 이상의 문자를 비탐욕적으로 매칭\n",
        "\n",
        "* re.sub()\n",
        "- re.sub를 사용하여 HTML 태그를 빈 문자열로 대체"
      ]
    },
    {
      "cell_type": "markdown",
      "metadata": {
        "id": "tOrX28FZFOYA"
      },
      "source": [
        "과제 5: 멀티스레딩과 멀티프로세싱\n",
        "\n",
        "1. 스레딩: 한 개의 스레드를 생성하고 실행하는 함수를 작성해주세요.\n",
        "\n",
        "2. 멀티스레딩: 두 개의 스레드를 생성하고 실행하세요.\n",
        "\n",
        "3. 멀티프로세싱: 두 개의 프로세스를 생성하고 실행하세요."
      ]
    },
    {
      "cell_type": "markdown",
      "metadata": {},
      "source": [
        "* 스레딩이란?\n",
        "- 하나의 프로세스 내에서 동시에 실행될 수 있는 여러 실행 흐름을 만드는 기술\n",
        "- 스레드는 프로세스의 작업 단위로, 프로세스 내에서 독립적으로 수행될 수 있는 작은 실행 단위 \n",
        "- 각 스레드는 동일한 메모리 공간을 공유하며, 프로세스 내에서 병렬로 작업을 수행할 수 있다. \n",
        "\n",
        "* 프로세스와 스레드의 차이\n",
        "- 프로세스\n",
        "    - 운영체제로부터 독립된 메모리 공간을 할당받아 실행되는 프로그램의 인스턴스\n",
        "    - 각 프로세스는 별도의 주소 공간을 가지며, 서로 독립적으로 실행\n",
        "- 스레드\n",
        "    - 프로세스 내에서 독립적으로 실행되는 작업 단위\n",
        "    - 같은 프로세스 내의 스레드는 메모리와 자원을 공유\n",
        "    - 따라서 스레드 간의 통신이 빠르지만, 동시에 자원을 접근할 때 동기화 문제가 발생할 수 있다.\n",
        "\n",
        "* 멀티스레딩\n",
        "- 멀티스레딩은 하나의 프로세스 내에서 여러 스레드를 생성하여 병렬로 작업을 수행하는 기술\n",
        "- 이를 통해 CPU 사용률을 높이고, 프로그램의 응답성을 향상시킬 수 있다.\n",
        "\n",
        "* Python에서의 스레딩\n",
        "- Python에서는 threading 모듈을 사용하여 스레드를 생성하고 관리할 수 있다.\n",
        "- 각 스레드는 Thread 클래스를 통해 생성되며, start() 메서드를 호출하여 실행\n"
      ]
    },
    {
      "cell_type": "code",
      "execution_count": 1,
      "metadata": {
        "id": "6t3JDv6eFOEk"
      },
      "outputs": [
        {
          "name": "stdout",
          "output_type": "stream",
          "text": [
            "Thread: 0\n",
            "Thread: 1\n",
            "Thread: 2\n",
            "Thread: 3\n",
            "Thread: 4\n",
            "Single thread execution completed\n"
          ]
        }
      ],
      "source": [
        "# 1. 스레딩: 한 개의 스레드를 생성하고 실행하는 함수\n",
        "\n",
        "import threading\n",
        "import time\n",
        "\n",
        "# 스레드에서 실행할 함수\n",
        "def print_numbers():\n",
        "    for i in range(5):\n",
        "        print(f\"Thread: {i}\")\n",
        "        time.sleep(1)\n",
        "\n",
        "# 스레드 생성\n",
        "thread = threading.Thread(target=print_numbers)\n",
        "\n",
        "# 스레드 시작\n",
        "thread.start()\n",
        "\n",
        "# 메인 스레드가 끝날 때가지 기다림\n",
        "thread.join()\n",
        "print(\"Single thread execution completed\")"
      ]
    },
    {
      "cell_type": "markdown",
      "metadata": {},
      "source": [
        "1. 스레딩\n",
        "- threading.Thread 클래스를 사용하여 새로운 스레드를 생성\n",
        "- 스레드에서 실행할 함수는 target 인수로 전달\n",
        "- start() 메서드를 호출하여 스레드를 시작\n",
        "- join() 메서드를 호출하여 메인 스레드가 해당 스레드의 종료를 기다리게 한다. \n"
      ]
    },
    {
      "cell_type": "code",
      "execution_count": 2,
      "metadata": {},
      "outputs": [
        {
          "name": "stdout",
          "output_type": "stream",
          "text": [
            "First Thread: 0\n",
            "Second Thread: 0\n",
            "First Thread: 1Second Thread: 1\n",
            "\n",
            "Second Thread: 2First Thread: 2\n",
            "\n",
            "Second Thread: 3\n",
            "First Thread: 3\n",
            "Second Thread: 4\n",
            "First Thread: 4\n",
            "Multithreading execution completed.\n"
          ]
        }
      ],
      "source": [
        "# 2. 멀티스레딩: 두 개의 스레드를 생성하고 실행\n",
        "import threading\n",
        "import time\n",
        "\n",
        "# 스레드에서 실행할 함수\n",
        "def print_numbers(name):\n",
        "    for i in range(5):\n",
        "        print(f\"{name} Thread: {i}\")\n",
        "        time.sleep(1)\n",
        "\n",
        "# 두 개의 스레드 생성\n",
        "thread1 = threading.Thread(target=print_numbers, args=(\"First\",))\n",
        "thread2 = threading.Thread(target=print_numbers, args=(\"Second\",))\n",
        "\n",
        "# 스레드 시작\n",
        "thread1.start()\n",
        "thread2.start()\n",
        "\n",
        "# 두 스레드가 끝날 때까지 기다림\n",
        "thread1.join()\n",
        "thread2.join()\n",
        "print(\"Multithreading execution completed.\")"
      ]
    },
    {
      "cell_type": "markdown",
      "metadata": {},
      "source": [
        "2. 멀티스레딩\n",
        "- 두 개의 스레드를 생성하고 각각 다른 이름을 인수로 전달하여 실행\n",
        "- 각 스레드는 독립적으로 실행"
      ]
    },
    {
      "cell_type": "code",
      "execution_count": 3,
      "metadata": {},
      "outputs": [
        {
          "name": "stdout",
          "output_type": "stream",
          "text": [
            "Multiprocessing execution completed.\n"
          ]
        },
        {
          "name": "stderr",
          "output_type": "stream",
          "text": [
            "Traceback (most recent call last):\n",
            "  File \"<string>\", line 1, in <module>\n",
            "  File \"/Library/Frameworks/Python.framework/Versions/3.12/lib/python3.12/multiprocessing/spawn.py\", line 122, in spawn_main\n",
            "    exitcode = _main(fd, parent_sentinel)\n",
            "               ^^^^^^^^^^^^^^^^^^^^^^^^^^\n",
            "  File \"/Library/Frameworks/Python.framework/Versions/3.12/lib/python3.12/multiprocessing/spawn.py\", line 132, in _main\n",
            "    self = reduction.pickle.load(from_parent)\n",
            "           ^^^^^^^^^^^^^^^^^^^^^^^^^^^^^^^^^^\n",
            "AttributeError: Can't get attribute 'print_numbers' on <module '__main__' (<class '_frozen_importlib.BuiltinImporter'>)>\n",
            "Traceback (most recent call last):\n",
            "  File \"<string>\", line 1, in <module>\n",
            "  File \"/Library/Frameworks/Python.framework/Versions/3.12/lib/python3.12/multiprocessing/spawn.py\", line 122, in spawn_main\n",
            "    exitcode = _main(fd, parent_sentinel)\n",
            "               ^^^^^^^^^^^^^^^^^^^^^^^^^^\n",
            "  File \"/Library/Frameworks/Python.framework/Versions/3.12/lib/python3.12/multiprocessing/spawn.py\", line 132, in _main\n",
            "    self = reduction.pickle.load(from_parent)\n",
            "           ^^^^^^^^^^^^^^^^^^^^^^^^^^^^^^^^^^\n",
            "AttributeError: Can't get attribute 'print_numbers' on <module '__main__' (<class '_frozen_importlib.BuiltinImporter'>)>\n"
          ]
        }
      ],
      "source": [
        "# 3. 멀티프로세싱: 두 개의 프로세스를 생성하고 실행\n",
        "import multiprocessing\n",
        "import time\n",
        "\n",
        "# 프로세스에서 실행할 함수\n",
        "def print_numbers(name):\n",
        "    for i in range(5):\n",
        "        print(f\"{name} Process: {i}\")\n",
        "        time.sleep(1)\n",
        "\n",
        "# 두 개의 프로세스 생성\n",
        "process1 = multiprocessing.Process(target=print_numbers, args=(\"First\",))\n",
        "process2 = multiprocessing.Process(target=print_numbers, args=(\"Second\",))\n",
        "\n",
        "# 프로세스 시작\n",
        "process1.start()\n",
        "process2.start()\n",
        "\n",
        "# 두 프로세스가 끝날 때까지 기다림\n",
        "process1.join()\n",
        "process2.join()\n",
        "print(\"Multiprocessing execution completed.\")"
      ]
    },
    {
      "cell_type": "markdown",
      "metadata": {},
      "source": [
        "3. 멀티프로세싱\n",
        "- multiprocessing.Process 클래스를 사용하여 새로운 프로세스를 생성\n",
        "- 프로세스에서 실행할 함수는 target 인수로 전달\n",
        "- start() 메서드를 호출하여 프로세스를 시작\n",
        "- join() 메서드를 호출하여 메인 프로세스가 해당 프로세스의 종료를 기다리게 한다."
      ]
    },
    {
      "cell_type": "code",
      "execution_count": null,
      "metadata": {},
      "outputs": [],
      "source": []
    }
  ],
  "metadata": {
    "colab": {
      "provenance": []
    },
    "kernelspec": {
      "display_name": "Python 3",
      "name": "python3"
    },
    "language_info": {
      "codemirror_mode": {
        "name": "ipython",
        "version": 3
      },
      "file_extension": ".py",
      "mimetype": "text/x-python",
      "name": "python",
      "nbconvert_exporter": "python",
      "pygments_lexer": "ipython3",
      "version": "3.12.3"
    }
  },
  "nbformat": 4,
  "nbformat_minor": 0
}
