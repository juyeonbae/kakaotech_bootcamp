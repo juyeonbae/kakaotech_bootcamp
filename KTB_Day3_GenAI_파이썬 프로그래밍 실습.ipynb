{
  "nbformat": 4,
  "nbformat_minor": 0,
  "metadata": {
    "colab": {
      "provenance": [],
      "include_colab_link": true
    },
    "kernelspec": {
      "name": "python3",
      "display_name": "Python 3"
    },
    "language_info": {
      "name": "python"
    }
  },
  "cells": [
    {
      "cell_type": "markdown",
      "metadata": {
        "id": "view-in-github",
        "colab_type": "text"
      },
      "source": [
        "<a href=\"https://colab.research.google.com/github/juyeonbae/kakaotech_bootcamp/blob/main/KTB_Day3_GenAI_%ED%8C%8C%EC%9D%B4%EC%8D%AC%20%ED%94%84%EB%A1%9C%EA%B7%B8%EB%9E%98%EB%B0%8D%20%EC%8B%A4%EC%8A%B5.ipynb\" target=\"_parent\"><img src=\"https://colab.research.google.com/assets/colab-badge.svg\" alt=\"Open In Colab\"/></a>"
      ]
    },
    {
      "cell_type": "markdown",
      "source": [
        "# 파이썬 프로그래밍 종합 실습\n",
        "기본 문법 복습, 자료형, 함수, 클래스와 객체지향 프로그래밍, 제너레이터와 이터레이터, 파일 입출력, 예외 처리를 종합적으로 활용합니다."
      ],
      "metadata": {
        "id": "zr5LnyrKxjNd"
      }
    },
    {
      "cell_type": "markdown",
      "source": [
        "1. 파이썬 기본 문법 복습 및 자료형\n",
        "\n",
        "문제:\n",
        "\n",
        "사용자로부터 이름, 나이, 이메일을 입력받아 딕셔너리에 저장하는 프로그램을 작성하세요.\n",
        "\n",
        "나이와 이메일의 형식을 검증하고, 잘못된 입력이 있으면 예외 처리를 하세요."
      ],
      "metadata": {
        "id": "MwJQm7MJxvAk"
      }
    },
    {
      "cell_type": "code",
      "execution_count": null,
      "metadata": {
        "id": "yKTAculHxfMp"
      },
      "outputs": [],
      "source": [
        "def validate_age(age):\n",
        "    return 0\n",
        "\n",
        "def validate_email(email):\n",
        "    return 0\n",
        "\n",
        "try:\n",
        "    pass\n",
        "except:\n",
        "    pass"
      ]
    },
    {
      "cell_type": "markdown",
      "source": [
        "2. 함수 및 클래스와 객체지향 프로그래밍\n",
        "\n",
        "문제:\n",
        "\n",
        "간단한 계산기 클래스를 작성하세요. 이 클래스는 덧셈, 뺄셈, 곱셈, 나눗셈 메서드를 포함합니다.\n",
        "\n",
        "사용자로부터 두 숫자와 연산자를 입력받아 계산 결과를 출력하는 프로그램을 작성하세요."
      ],
      "metadata": {
        "id": "in-rBALsyK33"
      }
    },
    {
      "cell_type": "code",
      "source": [
        "class Calculator:\n",
        "    def __init__(self):\n",
        "        pass\n",
        "\n",
        "try:\n",
        "    pass\n",
        "except:\n",
        "    pass"
      ],
      "metadata": {
        "id": "v-Yn0ydQyQMO"
      },
      "execution_count": null,
      "outputs": []
    },
    {
      "cell_type": "markdown",
      "source": [
        "3. 제너레이터와 이터레이터\n",
        "\n",
        "문제:\n",
        "\n",
        "피보나치 수열을 생성하는 제너레이터 함수를 작성하세요.\n",
        "피보나치 수열의 첫 10개 값을 출력하세요."
      ],
      "metadata": {
        "id": "OlDjuxSlyZOi"
      }
    },
    {
      "cell_type": "code",
      "source": [
        "def fibonacci(n):\n",
        "    return 0\n",
        "\n",
        "print(0)"
      ],
      "metadata": {
        "id": "BkI1jD4GydEa"
      },
      "execution_count": null,
      "outputs": []
    },
    {
      "cell_type": "markdown",
      "source": [
        "4. 파일 입출력\n",
        "\n",
        "문제:\n",
        "\n",
        "사용자로부터 입력받은 데이터를 파일에 저장하고, 파일 내용을 읽어 출력하는 프로그램을 작성하세요.\n",
        "\n",
        "데이터는 JSON 형식으로 저장하세요"
      ],
      "metadata": {
        "id": "O-_Q0pRUycx0"
      }
    },
    {
      "cell_type": "code",
      "source": [
        "data = {}\n",
        "\n",
        "with open():\n",
        "    pass\n",
        "\n",
        "with open():\n",
        "    pass"
      ],
      "metadata": {
        "id": "nyLTxXTHyqKE"
      },
      "execution_count": null,
      "outputs": []
    },
    {
      "cell_type": "markdown",
      "source": [
        "5. Database 연동\n",
        "\n",
        "문제:\n",
        "\n",
        "SQLite 데이터베이스에 사용자 정보를 저장하고, 저장된 데이터를 조회하여 출력하는 프로그램을 작성하세요.\n",
        "\n",
        "테이블은 users로 하고, id, name, age, email 컬럼을 포함합니다."
      ],
      "metadata": {
        "id": "snEMYElhy3Q3"
      }
    },
    {
      "cell_type": "code",
      "source": [
        "import sqlite3\n",
        "\n",
        "connection = sqlite3.connect()\n",
        "cursor = connection.cursor()"
      ],
      "metadata": {
        "id": "d8BgUC0ky6_b"
      },
      "execution_count": null,
      "outputs": []
    },
    {
      "cell_type": "markdown",
      "source": [
        "6. 예외 처리\n",
        "\n",
        "문제:\n",
        "\n",
        "사용자로부터 숫자를 입력받아, 그 숫자를 10으로 나누는 프로그램을 작성하세요.\n",
        "\n",
        "0으로 나누는 경우와 숫자가 아닌 값을 입력받는 경우를 처리하세요."
      ],
      "metadata": {
        "id": "qFd9nMWdzMaw"
      }
    },
    {
      "cell_type": "code",
      "source": [
        "try:\n",
        "    pass\n",
        "except:\n",
        "    pass\n",
        "except:\n",
        "    pass"
      ],
      "metadata": {
        "id": "B_0S33jOzPDJ"
      },
      "execution_count": null,
      "outputs": []
    }
  ]
}