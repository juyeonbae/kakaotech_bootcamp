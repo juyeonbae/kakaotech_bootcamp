{
 "cells": [
  {
   "cell_type": "code",
   "execution_count": 1,
   "metadata": {},
   "outputs": [
    {
     "name": "stdout",
     "output_type": "stream",
     "text": [
      "##########\n",
      "데이터의 처음 몇 줄을 출력하여 구조 확인\n",
      "   Temperature  Humidity  Wind Speed  Precipitation (%)    Cloud Cover  \\\n",
      "0         14.0        73         9.5               82.0  partly cloudy   \n",
      "1         39.0        96         8.5               71.0  partly cloudy   \n",
      "2         30.0        64         7.0               16.0          clear   \n",
      "3         38.0        83         1.5               82.0          clear   \n",
      "4         27.0        74        17.0               66.0       overcast   \n",
      "\n",
      "   Atmospheric Pressure  UV Index  Season  Visibility (km)  Location  \\\n",
      "0               1010.82         2  Winter              3.5    inland   \n",
      "1               1011.43         7  Spring             10.0    inland   \n",
      "2               1018.72         5  Spring              5.5  mountain   \n",
      "3               1026.25         7  Spring              1.0   coastal   \n",
      "4                990.67         1  Winter              2.5  mountain   \n",
      "\n",
      "  Weather Type  \n",
      "0        Rainy  \n",
      "1       Cloudy  \n",
      "2        Sunny  \n",
      "3        Sunny  \n",
      "4        Rainy  \n",
      "##########\n",
      "데이터의 각 컬럼에 대한 정보 확인\n",
      "<class 'pandas.core.frame.DataFrame'>\n",
      "RangeIndex: 13200 entries, 0 to 13199\n",
      "Data columns (total 11 columns):\n",
      " #   Column                Non-Null Count  Dtype  \n",
      "---  ------                --------------  -----  \n",
      " 0   Temperature           13200 non-null  float64\n",
      " 1   Humidity              13200 non-null  int64  \n",
      " 2   Wind Speed            13200 non-null  float64\n",
      " 3   Precipitation (%)     13200 non-null  float64\n",
      " 4   Cloud Cover           13200 non-null  object \n",
      " 5   Atmospheric Pressure  13200 non-null  float64\n",
      " 6   UV Index              13200 non-null  int64  \n",
      " 7   Season                13200 non-null  object \n",
      " 8   Visibility (km)       13200 non-null  float64\n",
      " 9   Location              13200 non-null  object \n",
      " 10  Weather Type          13200 non-null  object \n",
      "dtypes: float64(5), int64(2), object(4)\n",
      "memory usage: 1.1+ MB\n",
      "None\n"
     ]
    }
   ],
   "source": [
    "import pandas as pd\n",
    "\n",
    "# 데이터셋 로드\n",
    "data = pd.read_csv('/Users/baejuyeon/Downloads/weather_classification_data.csv')\n",
    "\n",
    "# 데이터의 처음 몇 줄을 출력하여 구조 확인\n",
    "print(\"#\"*10)\n",
    "print(\"데이터의 처음 몇 줄을 출력하여 구조 확인\")\n",
    "print(data.head())\n",
    "\n",
    "# 데이터의 각 컬럼에 대한 정보 확인\n",
    "print(\"#\"*10)\n",
    "print(\"데이터의 각 컬럼에 대한 정보 확인\")\n",
    "print(data.info())"
   ]
  },
  {
   "cell_type": "code",
   "execution_count": null,
   "metadata": {},
   "outputs": [],
   "source": []
  }
 ],
 "metadata": {
  "kernelspec": {
   "display_name": "Python 3",
   "language": "python",
   "name": "python3"
  },
  "language_info": {
   "codemirror_mode": {
    "name": "ipython",
    "version": 3
   },
   "file_extension": ".py",
   "mimetype": "text/x-python",
   "name": "python",
   "nbconvert_exporter": "python",
   "pygments_lexer": "ipython3",
   "version": "3.12.3"
  }
 },
 "nbformat": 4,
 "nbformat_minor": 2
}
