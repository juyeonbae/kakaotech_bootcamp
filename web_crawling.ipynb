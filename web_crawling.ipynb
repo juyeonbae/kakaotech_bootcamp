{
 "cells": [
  {
   "cell_type": "code",
   "execution_count": null,
   "metadata": {},
   "outputs": [],
   "source": [
    "import requests\n",
    "\n",
    "url = 'https://'\n",
    "response = requests.get(url)\n",
    "print(response.text) # 페이지의 HTML 소스를 출력"
   ]
  }
 ],
 "metadata": {
  "language_info": {
   "name": "python"
  }
 },
 "nbformat": 4,
 "nbformat_minor": 2
}
